{
  "nbformat": 4,
  "nbformat_minor": 0,
  "metadata": {
    "colab": {
      "name": "py_object2.ipynb",
      "provenance": [],
      "collapsed_sections": []
    },
    "kernelspec": {
      "name": "python3",
      "display_name": "Python 3"
    },
    "language_info": {
      "name": "python"
    }
  },
  "cells": [
    {
      "cell_type": "code",
      "metadata": {
        "colab": {
          "base_uri": "https://localhost:8080/"
        },
        "id": "awkW79puFWYq",
        "outputId": "3c31ad30-0d92-4e49-888c-e6946843c5fc"
      },
      "source": [
        "class Player:\n",
        "    def __init__(self, level, name, hp, mp):\n",
        "        self.level = level\n",
        "        self.name = name\n",
        "        self.hp = hp\n",
        "        self.mp = mp\n",
        "\n",
        "    def attack(self):\n",
        "        print(\"敵を攻撃する\")\n",
        "\n",
        "    def show(self):\n",
        "        print(\"レベル: {}, 名前: {}, HP: {}, MP:{}\".format(self.level, self.name, self.hp, self.mp))\n",
        "\n",
        "class Hero(Player):\n",
        "    def encourage(self):\n",
        "        print(\"みんなを勇気づける\")\n",
        "\n",
        "john = Player(1, \"JOHN\", 20, 0)\n",
        "leo = Hero(30, \"LEO\", 300, 150)\n",
        "\n",
        "john.show()\n",
        "john.attack()\n",
        "\n",
        "leo.attack()\n",
        "leo.show()\n",
        "leo.encourage()"
      ],
      "execution_count": null,
      "outputs": [
        {
          "output_type": "stream",
          "name": "stdout",
          "text": [
            "レベル: 1, 名前: JOHN, HP: 20, MP:0\n",
            "敵を攻撃する\n",
            "敵を攻撃する\n",
            "レベル: 30, 名前: LEO, HP: 300, MP:150\n",
            "みんなを勇気づける\n"
          ]
        }
      ]
    },
    {
      "cell_type": "code",
      "metadata": {
        "colab": {
          "base_uri": "https://localhost:8080/"
        },
        "id": "SbLWpHAgHEgO",
        "outputId": "981002eb-a9e9-48c6-dfec-85fa0256e48c"
      },
      "source": [
        "class Player:\n",
        "    def __init__(self, level, name, hp, mp):\n",
        "        self.level = level\n",
        "        self.name = name\n",
        "        self.hp = hp\n",
        "        self.mp = mp\n",
        "\n",
        "    def attack(self):\n",
        "        print(\"敵を攻撃する\")\n",
        "\n",
        "    def show(self):\n",
        "        print(\"レベル: {}, 名前: {}, HP: {}, MP:{}\".format(self.level, self.name, self.hp, self.mp))\n",
        "\n",
        "class Hero(Player):\n",
        "    def encourage(self):\n",
        "        print(\"みんなを勇気づける\")\n",
        "\n",
        "    def attack(self):\n",
        "        print(\"必殺技で敵を攻撃する\")\n",
        "\n",
        "john = Player(1, \"JOHN\", 20, 0)\n",
        "leo = Hero(30, \"LEO\", 300, 150)\n",
        "\n",
        "john.show()\n",
        "john.attack()\n",
        "\n",
        "leo.attack()"
      ],
      "execution_count": null,
      "outputs": [
        {
          "output_type": "stream",
          "name": "stdout",
          "text": [
            "レベル: 1, 名前: JOHN, HP: 20, MP:0\n",
            "敵を攻撃する\n",
            "必殺技で敵を攻撃する\n"
          ]
        }
      ]
    },
    {
      "cell_type": "code",
      "metadata": {
        "colab": {
          "base_uri": "https://localhost:8080/"
        },
        "id": "MmuMMtvzHHrX",
        "outputId": "4a68deae-7027-4cc3-d857-8a531eeaea6c"
      },
      "source": [
        "class Player:\n",
        "    def __init__(self, level, name, hp, mp):\n",
        "        self.level = level\n",
        "        self.name = name\n",
        "        self.hp = hp\n",
        "        self.mp = mp\n",
        "\n",
        "    def attack(self):\n",
        "        print(\"敵を攻撃する\")\n",
        "\n",
        "    def show(self):\n",
        "        print(\"レベル: {}, 名前: {}, HP: {}, MP:{}\".format(self.level, self.name, self.hp, self.mp))\n",
        "\n",
        "class Hero(Player):\n",
        "    def __init__(self, level, name, hp, mp, tp_rate):\n",
        "        super().__init__(level, name, hp, mp)\n",
        "        self.tp_rate = tp_rate\n",
        "\n",
        "    def encourage(self):\n",
        "        print(\"みんなを勇気づける\")\n",
        "\n",
        "    def attack(self):\n",
        "        print(\"必殺技で敵を攻撃する\")\n",
        "\n",
        "    def calc_tp(self):\n",
        "        return (self.hp + self.mp) * self.tp_rate\n",
        "\n",
        "john = Player(1, \"JOHN\", 20, 0)\n",
        "leo = Hero(30, \"LEO\", 300, 150, 2)\n",
        "\n",
        "john.attack()\n",
        "john.show()\n",
        "\n",
        "leo.attack()\n",
        "leo.show()\n",
        "leo.encourage()\n",
        "print(\"leoのTP:{}\".format(leo.calc_tp()))"
      ],
      "execution_count": null,
      "outputs": [
        {
          "output_type": "stream",
          "name": "stdout",
          "text": [
            "敵を攻撃する\n",
            "レベル: 1, 名前: JOHN, HP: 20, MP:0\n",
            "必殺技で敵を攻撃する\n",
            "レベル: 30, 名前: LEO, HP: 300, MP:150\n",
            "みんなを勇気づける\n",
            "leoのTP:900\n"
          ]
        }
      ]
    },
    {
      "cell_type": "code",
      "metadata": {
        "id": "7Cuuh2x7Me15",
        "colab": {
          "base_uri": "https://localhost:8080/"
        },
        "outputId": "77ca52d2-3818-4983-89f0-6034b642ecee"
      },
      "source": [
        "class Worker:\n",
        "    def __init__(self, id, name, age, salary):\n",
        "        self.id = id\n",
        "        self.name = name\n",
        "        self.age = age\n",
        "        self.salary = salary\n",
        "        self.bonus_rate = 2\n",
        "\n",
        "    def work(self):\n",
        "        print(\"働く\")\n",
        "\n",
        "    def show(self):\n",
        "        print(\"ID: {}, 名前: {},年齢: {}\".format(self.id, self.name, self.age))\n",
        "\n",
        "    def calc_salary(self):\n",
        "        return self.salary\n",
        "\n",
        "    def calc_bonus(self):\n",
        "        return self.salary * self.bonus_rate\n",
        "\n",
        "hiro = Worker(1, \"HIRO\", 25, 200000)\n",
        "\n",
        "class Manager(Worker):\n",
        "    def budget_manage(self):\n",
        "        print(\"予算管理をする\")\n",
        "\n",
        "yuki = Manager(300, \"YUKI\", 35, 400000)\n",
        "\n",
        "hiro.show()\n",
        "print(\"月給:\", hiro.calc_salary(), \"賞与:\", hiro.calc_bonus())\n",
        "hiro.work()\n",
        "\n",
        "yuki.show()\n",
        "yuki.work()\n",
        "yuki.budget_manage()\n",
        "print(\"月給:\", yuki.calc_salary(), \"賞与:\", yuki.calc_bonus())"
      ],
      "execution_count": 27,
      "outputs": [
        {
          "output_type": "stream",
          "name": "stdout",
          "text": [
            "ID: 1, 名前: HIRO,年齢: 25\n",
            "月給: 200000 賞与: 400000\n",
            "働く\n",
            "ID: 300, 名前: YUKI,年齢: 35\n",
            "働く\n",
            "予算管理をする\n",
            "月給: 400000 賞与: 800000\n"
          ]
        }
      ]
    },
    {
      "cell_type": "code",
      "metadata": {
        "colab": {
          "base_uri": "https://localhost:8080/"
        },
        "id": "TeuMMV_YTZiu",
        "outputId": "d011e3b8-5b45-4eea-c52f-de325d57c713"
      },
      "source": [
        "class Worker:\n",
        "    def __init__(self, id, name, age, salary):\n",
        "        self.id = id\n",
        "        self.name = name\n",
        "        self.age = age\n",
        "        self.salary = salary\n",
        "        self.bonus_rate = 2\n",
        "\n",
        "    def work(self):\n",
        "        print(\"働く\")\n",
        "\n",
        "    def show(self):\n",
        "        print(\"ID: {}, 名前: {},年齢: {}\".format(self.id, self.name, self.age))\n",
        "\n",
        "    def calc_salary(self):\n",
        "        return self.salary\n",
        "\n",
        "    def calc_bonus(self):\n",
        "        return self.salary * self.bonus_rate\n",
        "\n",
        "hiro = Worker(1, \"HIRO\", 25, 200000)\n",
        "\n",
        "class Manager(Worker):\n",
        "    def budget_manage(self):\n",
        "        print(\"予算管理をする\")\n",
        "\n",
        "    def work(self):\n",
        "        print(\"進捗管理をする\")\n",
        "\n",
        "yuki = Manager(300, \"YUKI\", 35, 400000)\n",
        "\n",
        "hiro.show()\n",
        "print(\"月給:\", hiro.calc_salary(), \"賞与:\", hiro.calc_bonus())\n",
        "hiro.work()\n",
        "\n",
        "yuki.show()\n",
        "yuki.budget_manage()\n",
        "print(\"月給:\", yuki.calc_salary(), \"賞与:\", yuki.calc_bonus())\n",
        "\n",
        "yuki.work()"
      ],
      "execution_count": 28,
      "outputs": [
        {
          "output_type": "stream",
          "name": "stdout",
          "text": [
            "ID: 1, 名前: HIRO,年齢: 25\n",
            "月給: 200000 賞与: 400000\n",
            "働く\n",
            "ID: 300, 名前: YUKI,年齢: 35\n",
            "予算管理をする\n",
            "月給: 400000 賞与: 800000\n",
            "進捗管理をする\n"
          ]
        }
      ]
    },
    {
      "cell_type": "code",
      "metadata": {
        "colab": {
          "base_uri": "https://localhost:8080/"
        },
        "id": "pzcWisaQVoXA",
        "outputId": "5bf93d66-0adb-447e-a7d9-621c8267ba24"
      },
      "source": [
        "class Worker:\n",
        "    def __init__(self, id, name, age, salary):\n",
        "        self.id = id\n",
        "        self.name = name\n",
        "        self.age = age\n",
        "        self.salary = salary\n",
        "        self.bonus_rate = 2\n",
        "\n",
        "    def work(self):\n",
        "        print(\"働く\")\n",
        "\n",
        "    def show(self):\n",
        "        print(\"ID: {}, 名前: {},年齢: {}\".format(self.id, self.name, self.age))\n",
        "\n",
        "    def calc_salary(self):\n",
        "        return self.salary\n",
        "\n",
        "    def calc_bonus(self):\n",
        "        return self.salary * self.bonus_rate\n",
        "\n",
        "class Manager(Worker):\n",
        "    def __init__(self,id, name, age, salary, allowance):\n",
        "        super().__init__(id, name, age, salary)\n",
        "        self.allowance = allowance\n",
        "\n",
        "    def budget_manage(self):\n",
        "        print(\"予算管理をする\")\n",
        "\n",
        "    def work(self):\n",
        "        print(\"進捗管理をする\")\n",
        "\n",
        "    def calc_salary(self):\n",
        "        return self.salary + self.allowance\n",
        "\n",
        "hiro = Worker(1, \"HIRO\", 25, 200000)\n",
        "yuki = Manager(300, \"YUKI\", 35, 400000,50000)\n",
        "\n",
        "hiro.show()\n",
        "print(\"月給:\", hiro.calc_salary(), \"賞与:\", hiro.calc_bonus())\n",
        "hiro.work()\n",
        "\n",
        "yuki.show()\n",
        "yuki.budget_manage()\n",
        "print(\"月給:\", yuki.calc_salary(), \"賞与:\", yuki.calc_bonus())\n",
        "print(\"YUKIの月給の内訳:\")\n",
        "print(\" 基本給\", yuki.salary, \"手当\", yuki.allowance)\n",
        "\n",
        "yuki.work()"
      ],
      "execution_count": 30,
      "outputs": [
        {
          "output_type": "stream",
          "name": "stdout",
          "text": [
            "ID: 1, 名前: HIRO,年齢: 25\n",
            "月給: 200000 賞与: 400000\n",
            "働く\n",
            "ID: 300, 名前: YUKI,年齢: 35\n",
            "予算管理をする\n",
            "月給: 450000 賞与: 800000\n",
            "YUKIの月給の内訳:\n",
            " 基本給 400000 手当 50000\n",
            "進捗管理をする\n"
          ]
        }
      ]
    }
  ]
}