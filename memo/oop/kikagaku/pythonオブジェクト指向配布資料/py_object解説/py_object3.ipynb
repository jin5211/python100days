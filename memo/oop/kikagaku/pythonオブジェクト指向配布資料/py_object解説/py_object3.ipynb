{
  "nbformat": 4,
  "nbformat_minor": 0,
  "metadata": {
    "colab": {
      "name": "py_object3.ipynb",
      "provenance": [],
      "collapsed_sections": []
    },
    "kernelspec": {
      "name": "python3",
      "display_name": "Python 3"
    },
    "language_info": {
      "name": "python"
    }
  },
  "cells": [
    {
      "cell_type": "code",
      "metadata": {
        "colab": {
          "base_uri": "https://localhost:8080/"
        },
        "id": "7wSh9KnoUFNi",
        "outputId": "60e31d53-8527-4892-ce58-1f1719d91051"
      },
      "source": [
        "class Player:\n",
        "    def __init__(self, level=1, name=\"???\", hp=10, mp=0):\n",
        "        self.level = level\n",
        "        self.name = name\n",
        "        self.hp = hp\n",
        "        self.mp = mp\n",
        "\n",
        "    def attack(self, air=\"普通に\"):\n",
        "        print(\"敵を\" + air + \"攻撃する\")\n",
        "\n",
        "    def show(self):\n",
        "        print(\"レベル: {}, 名前: {}, HP: {}, MP: {}\".format(self.level, self.name, self.hp, self.mp))\n",
        "\n",
        "class Hero(Player):\n",
        "    def encourage(self):\n",
        "        print(\"みんなを勇気づける\")\n",
        "\n",
        "\n",
        "p = Player()\n",
        "john = Player(1, \"JOHN\", 20, 0)\n",
        "leo = Hero(30, \"LEO\", 300, 150)\n",
        "\n",
        "p.show()\n",
        "p.attack()\n",
        "john.show()\n",
        "john.attack(\"懸命に\")\n",
        "leo.show()\n",
        "leo.attack(\"全力で\")"
      ],
      "execution_count": null,
      "outputs": [
        {
          "output_type": "stream",
          "name": "stdout",
          "text": [
            "レベル: 1, 名前: ???, HP: 10, MP: 0\n",
            "敵を普通に攻撃する\n",
            "レベル: 1, 名前: JOHN, HP: 20, MP: 0\n",
            "敵を懸命に攻撃する\n",
            "レベル: 30, 名前: LEO, HP: 300, MP: 150\n",
            "敵を全力で攻撃する\n"
          ]
        }
      ]
    },
    {
      "cell_type": "code",
      "metadata": {
        "colab": {
          "base_uri": "https://localhost:8080/"
        },
        "id": "N0y3w33bUFLH",
        "outputId": "b333c27f-d86a-450d-ea41-be71e6e9d09f"
      },
      "source": [
        "class Player:\n",
        "    def __init__(self, level, name):\n",
        "        self.__level = level\n",
        "        self.__name = name\n",
        "\n",
        "    def set_level(self, level):\n",
        "        if isinstance(level, int):\n",
        "            self.__level = level\n",
        "\n",
        "    def get_level(self):\n",
        "        return self.__level\n",
        "\n",
        "    def set_name(self, name):\n",
        "        if isinstance(name, str) and name != '':\n",
        "            self.__name = name\n",
        "\n",
        "    def get_name(self):\n",
        "        return self.__name\n",
        "\n",
        "    def attack(self):\n",
        "        print('攻撃する')\n",
        "\n",
        "john = Player(1, \"JOHN\")\n",
        "\n",
        "print(john.get_level(), john.get_name())\n",
        "\n",
        "john.set_level(60)\n",
        "print(john.get_level(), john.get_name())"
      ],
      "execution_count": null,
      "outputs": [
        {
          "output_type": "stream",
          "name": "stdout",
          "text": [
            "1 JOHN\n",
            "60 JOHN\n"
          ]
        }
      ]
    },
    {
      "cell_type": "code",
      "metadata": {
        "colab": {
          "base_uri": "https://localhost:8080/"
        },
        "id": "4tvQGXohUFGV",
        "outputId": "e9a88022-26e5-4e61-818f-fa0ac6646909"
      },
      "source": [
        "class Circle:\n",
        "\n",
        "    PI = 3.1415\n",
        "\n",
        "    def __init__(self, radius):\n",
        "        self.radius = radius\n",
        "\n",
        "    def area(self):\n",
        "        return self.radius ** 2 * Circle.PI\n",
        "\n",
        "c = Circle(100)\n",
        "print(c.area())"
      ],
      "execution_count": null,
      "outputs": [
        {
          "output_type": "stream",
          "name": "stdout",
          "text": [
            "31415.0\n"
          ]
        }
      ]
    },
    {
      "cell_type": "code",
      "metadata": {
        "colab": {
          "base_uri": "https://localhost:8080/"
        },
        "id": "0ajCZ-vxUFCz",
        "outputId": "161a4399-58d0-4ef6-8521-369129340546"
      },
      "source": [
        "class Circle:\n",
        "\n",
        "    PI = 3.1415\n",
        "\n",
        "    def __init__(self, radius):\n",
        "        self.radius = radius\n",
        "\n",
        "    def area(self):\n",
        "        return self.radius ** 2 * Circle.PI\n",
        "\n",
        "    @classmethod\n",
        "    def radians(cls, degree):\n",
        "        return degree * (cls.PI / 180)\n",
        "\n",
        "Circle.radians(180)"
      ],
      "execution_count": null,
      "outputs": [
        {
          "output_type": "execute_result",
          "data": {
            "text/plain": [
              "3.1415"
            ]
          },
          "metadata": {},
          "execution_count": 5
        }
      ]
    },
    {
      "cell_type": "code",
      "metadata": {
        "colab": {
          "base_uri": "https://localhost:8080/"
        },
        "id": "pwYoNoWAupyV",
        "outputId": "21125a35-e9fc-4a85-ad35-da52fcfb7b5e"
      },
      "source": [
        "class Worker:\n",
        "    bonus_rate = 2\n",
        "\n",
        "    def __init__(self, id, name, age, salary):\n",
        "        self.id = id\n",
        "        self.name = name\n",
        "        self.age = age\n",
        "        self.salary = salary\n",
        "\n",
        "    def work(self):\n",
        "        print(\"働く\")\n",
        "\n",
        "    def show(self):\n",
        "        print(\"ID: {}, 名前: {}, 年齢: {}\".format(self.id, self.name, self.age))\n",
        "\n",
        "    def calc_salary(self):\n",
        "        return self.salary\n",
        "\n",
        "    def calc_bonuns(self):\n",
        "        return self.calc_salary() * Worker.bonus_rate\n",
        "\n",
        "print(\"bonus_rate:\", Worker.bonus_rate)\n",
        "\n",
        "hiro = Worker(1, \"HIRO\", 25, 200000)\n",
        "hiro.show()\n",
        "print(\" 月給\", hiro.calc_salary(), \"賞与\", hiro.calc_bonuns())"
      ],
      "execution_count": null,
      "outputs": [
        {
          "output_type": "stream",
          "name": "stdout",
          "text": [
            "bonus_rate: 2\n",
            "ID: 1, 名前: HIRO, 年齢: 25\n",
            " 月給 200000 賞与 400000\n"
          ]
        }
      ]
    },
    {
      "cell_type": "code",
      "metadata": {
        "colab": {
          "base_uri": "https://localhost:8080/"
        },
        "id": "gMW5r_ATupos",
        "outputId": "6af92e0c-5921-418f-8580-b026500da1a1"
      },
      "source": [
        "class Worker:\n",
        "    bonus_rate = 2\n",
        "    __num = 0\n",
        "\n",
        "    def __init__(self, id, name, age, salary):\n",
        "        self.id = id\n",
        "        self.name = name\n",
        "        self.age = age\n",
        "        self.salary = salary\n",
        "        Worker.__num += 1\n",
        "\n",
        "    def work(self):\n",
        "        print(\"働く\")\n",
        "\n",
        "    def show(self):\n",
        "        print(\"ID: {}, 名前: {}, 年齢: {}\".format(self.id, self.name, self.age))\n",
        "\n",
        "    def calc_salary(self):\n",
        "        return self.salary\n",
        "\n",
        "    def calc_bonuns(self):\n",
        "        return self.calc_salary() * Worker.bonus_rate\n",
        "\n",
        "    @classmethod\n",
        "    def get_num(cls):\n",
        "        return cls.__num\n",
        "\n",
        "print(\"社員数\", Worker.get_num())\n",
        "\n",
        "print(\"bonus_rate:\", Worker.bonus_rate)\n",
        "\n",
        "hiro = Worker(1, \"HIRO\", 25, 200000)\n",
        "hiro.show()\n",
        "print(\" 月給\", hiro.calc_salary(), \"賞与\", hiro.calc_bonuns())\n",
        "print(\"社員数\", Worker.get_num())\n",
        "\n",
        "yuki = Worker(1, \"YUKI\", 35, 400000)\n",
        "yuki.show()\n",
        "print(\" 月給\", yuki.calc_salary(), \"賞与\", yuki.calc_bonuns())\n",
        "print(\"社員数\", Worker.get_num())"
      ],
      "execution_count": null,
      "outputs": [
        {
          "output_type": "stream",
          "name": "stdout",
          "text": [
            "社員数 0\n",
            "bonus_rate: 2\n",
            "ID: 1, 名前: HIRO, 年齢: 25\n",
            " 月給 200000 賞与 400000\n",
            "社員数 1\n",
            "ID: 1, 名前: YUKI, 年齢: 35\n",
            " 月給 400000 賞与 800000\n",
            "社員数 2\n"
          ]
        }
      ]
    },
    {
      "cell_type": "code",
      "metadata": {
        "colab": {
          "base_uri": "https://localhost:8080/"
        },
        "id": "c3zTcCJ3UE-3",
        "outputId": "2f73a756-f2fa-432a-f88b-8a6705388d9d"
      },
      "source": [
        "class Player:\n",
        "    def __init__(self, name):\n",
        "        self.name = name\n",
        "\n",
        "    def attack(self):\n",
        "        print(self.name + 'は攻撃する')\n",
        "\n",
        "\n",
        "class Hero(Player):\n",
        "    def attack(self):\n",
        "        print(self.name + 'は剣で攻撃する')\n",
        "\n",
        "\n",
        "class Mage(Player):\n",
        "    def attack(self):\n",
        "        print(self.name + 'は魔法で攻撃する')\n",
        "\n",
        "\n",
        "class Person:\n",
        "    def attack(self):\n",
        "        print('様子を見る')\n",
        "\n",
        "\n",
        "players = []\n",
        "players.append(Player('JOHN'))\n",
        "players.append(Hero('LEO'))\n",
        "players.append(Mage('REI'))\n",
        "players.append(Person())\n",
        "\n",
        "for player in players:\n",
        "    player.attack()\n"
      ],
      "execution_count": 1,
      "outputs": [
        {
          "output_type": "stream",
          "name": "stdout",
          "text": [
            "JOHNは攻撃する\n",
            "LEOは剣で攻撃する\n",
            "REIは魔法で攻撃する\n",
            "様子を見る\n"
          ]
        }
      ]
    },
    {
      "cell_type": "code",
      "metadata": {
        "colab": {
          "base_uri": "https://localhost:8080/"
        },
        "id": "AksWADVjGmOw",
        "outputId": "c14064d6-ca45-44a1-8043-4175e67b5b55"
      },
      "source": [
        "class Person: \n",
        "    def __init__(self, name):\n",
        "        self.name = name\n",
        "    def hello(self):\n",
        "        print(\"おはようございます\")\n",
        "\n",
        "class Bird:  \n",
        "\tdef __init__(self, name, owner):\n",
        "\t\tself.name = name\n",
        "\t\tself.owner = owner\n",
        "\tdef hello(self):\n",
        "\t\tself.owner.hello()\n",
        "\n",
        "takashi = Person(\"たかし\")\n",
        "pchan = Bird(\"ぴーちゃん\", takashi)\n",
        "\n",
        "print(pchan.owner.name)\n",
        "\n",
        "pchan.hello()"
      ],
      "execution_count": null,
      "outputs": [
        {
          "output_type": "stream",
          "name": "stdout",
          "text": [
            "たかし\n",
            "おはようございます\n"
          ]
        }
      ]
    },
    {
      "cell_type": "code",
      "metadata": {
        "colab": {
          "base_uri": "https://localhost:8080/",
          "height": 211
        },
        "id": "2hMAM7a8UE7M",
        "outputId": "278401c8-818b-4a05-881c-b86275c7e995"
      },
      "source": [
        "class Player:\n",
        "    def __init__(self, name, level):\n",
        "        self.name = name\n",
        "        self.level = level\n",
        "\n",
        "\n",
        "leo = Player('LEO', 30)\n",
        "john = Player('JOHN', 1)\n",
        "print(leo > john)"
      ],
      "execution_count": null,
      "outputs": [
        {
          "output_type": "error",
          "ename": "TypeError",
          "evalue": "ignored",
          "traceback": [
            "\u001b[0;31m---------------------------------------------------------------------------\u001b[0m",
            "\u001b[0;31mTypeError\u001b[0m                                 Traceback (most recent call last)",
            "\u001b[0;32m<ipython-input-2-e743d75db45e>\u001b[0m in \u001b[0;36m<module>\u001b[0;34m()\u001b[0m\n\u001b[1;32m      7\u001b[0m \u001b[0mleo\u001b[0m \u001b[0;34m=\u001b[0m \u001b[0mPlayer\u001b[0m\u001b[0;34m(\u001b[0m\u001b[0;34m'LEO'\u001b[0m\u001b[0;34m,\u001b[0m \u001b[0;36m30\u001b[0m\u001b[0;34m)\u001b[0m\u001b[0;34m\u001b[0m\u001b[0;34m\u001b[0m\u001b[0m\n\u001b[1;32m      8\u001b[0m \u001b[0mjohn\u001b[0m \u001b[0;34m=\u001b[0m \u001b[0mPlayer\u001b[0m\u001b[0;34m(\u001b[0m\u001b[0;34m'JOHN'\u001b[0m\u001b[0;34m,\u001b[0m \u001b[0;36m1\u001b[0m\u001b[0;34m)\u001b[0m\u001b[0;34m\u001b[0m\u001b[0;34m\u001b[0m\u001b[0m\n\u001b[0;32m----> 9\u001b[0;31m \u001b[0mprint\u001b[0m\u001b[0;34m(\u001b[0m\u001b[0mleo\u001b[0m \u001b[0;34m>\u001b[0m \u001b[0mjohn\u001b[0m\u001b[0;34m)\u001b[0m\u001b[0;34m\u001b[0m\u001b[0;34m\u001b[0m\u001b[0m\n\u001b[0m",
            "\u001b[0;31mTypeError\u001b[0m: '>' not supported between instances of 'Player' and 'Player'"
          ]
        }
      ]
    },
    {
      "cell_type": "code",
      "metadata": {
        "colab": {
          "base_uri": "https://localhost:8080/"
        },
        "id": "51peSWsdUE1W",
        "outputId": "ab51f311-33b5-4279-9e5c-f4ff253d47f1"
      },
      "source": [
        "class Player:\n",
        "    def __init__(self, name, level):\n",
        "        self.name = name\n",
        "        self.level = level\n",
        "\n",
        "    def __gt__(self, other):\n",
        "        return self.level > other.level\n",
        "\n",
        "leo = Player('LEO', 30)\n",
        "john = Player('JOHN', 1)\n",
        "print(leo > john)"
      ],
      "execution_count": null,
      "outputs": [
        {
          "output_type": "stream",
          "name": "stdout",
          "text": [
            "True\n"
          ]
        }
      ]
    },
    {
      "cell_type": "code",
      "metadata": {
        "colab": {
          "base_uri": "https://localhost:8080/"
        },
        "id": "rtLs3kmxUEs4",
        "outputId": "b6ceca8e-46f3-43b3-e849-16eb4093b942"
      },
      "source": [
        "class Player:\n",
        "    def __init__(self, name, level):\n",
        "        self.name = name\n",
        "        self.level = level\n",
        "\n",
        "leo = Player('LEO', 30)\n",
        "print(leo)"
      ],
      "execution_count": null,
      "outputs": [
        {
          "output_type": "stream",
          "name": "stdout",
          "text": [
            "<__main__.Player object at 0x7fb01b84a150>\n"
          ]
        }
      ]
    },
    {
      "cell_type": "code",
      "metadata": {
        "colab": {
          "base_uri": "https://localhost:8080/"
        },
        "id": "1eDT_AnDUEio",
        "outputId": "c38ce24f-9fc4-42fd-b100-1419d8fe0c6f"
      },
      "source": [
        "class Player:\n",
        "    def __init__(self, name, level):\n",
        "        self.name = name\n",
        "        self.level = level\n",
        "\n",
        "    def __str__(self):\n",
        "        return '{} {}'.format(self.name, self.level)\n",
        "\n",
        "\n",
        "leo = Player('LEO', 30)\n",
        "print(leo)"
      ],
      "execution_count": null,
      "outputs": [
        {
          "output_type": "stream",
          "name": "stdout",
          "text": [
            "LEO 30\n"
          ]
        }
      ]
    },
    {
      "cell_type": "code",
      "metadata": {
        "colab": {
          "base_uri": "https://localhost:8080/"
        },
        "id": "2rAl50--MVyn",
        "outputId": "a67af7f4-5f51-434b-ff6e-118c12cb4013"
      },
      "source": [
        "class Worker:\n",
        "    def __init__(self, id, name):\n",
        "        self.id = id\n",
        "        self.name = name\n",
        "\n",
        "    def work(self):\n",
        "        print(self.name + \"は働く\")\n",
        "\n",
        "class Sales(Worker):\n",
        "    def work(self):\n",
        "        print(self.name + \"は客先に行く\")\n",
        "\n",
        "class Engeneer(Worker):\n",
        "    def work(self):\n",
        "        print(self.name + \"はプログラムを作成する\")\n",
        "\n",
        "class Partner:\n",
        "    def work(self):\n",
        "        print(\"仕事をする\")\n",
        "\n",
        "workers = []\n",
        "workers.append(Worker(1, \"HIRO\"))\n",
        "workers.append(Sales(300, \"YUKI\"))\n",
        "workers.append(Engeneer(500, \"REI\"))\n",
        "workers.append(Partner())\n",
        "\n",
        "for worker in workers:\n",
        "    worker.work()"
      ],
      "execution_count": null,
      "outputs": [
        {
          "output_type": "stream",
          "name": "stdout",
          "text": [
            "HIROは働く\n",
            "YUKIは客先に行く\n",
            "REIはプログラムを作成する\n",
            "仕事をする\n"
          ]
        }
      ]
    },
    {
      "cell_type": "code",
      "metadata": {
        "colab": {
          "base_uri": "https://localhost:8080/"
        },
        "id": "uYAdR88EOzzx",
        "outputId": "5f84297c-29b3-4aad-bec1-b18d735e5bf0"
      },
      "source": [
        "from enum import Enum\n",
        "\n",
        "class Week(Enum):\n",
        "    MONDAY = 0\n",
        "    TUESDAY = 1\n",
        "    WEDNESDAY = 2\n",
        "    THURSDAY = 3\n",
        "    FRIDAY = 4\n",
        "    SATURDAY = 5\n",
        "    SUNDAY = 6\n",
        "print(Week.SATURDAY.name, Week.SATURDAY.value)"
      ],
      "execution_count": null,
      "outputs": [
        {
          "output_type": "stream",
          "name": "stdout",
          "text": [
            "SATURDAY 5\n"
          ]
        }
      ]
    },
    {
      "cell_type": "code",
      "metadata": {
        "colab": {
          "base_uri": "https://localhost:8080/"
        },
        "id": "05Hxn1dRMZYw",
        "outputId": "e0d13ffe-13f9-46e5-892e-a11a2c9cd924"
      },
      "source": [
        "from enum import IntEnum\n",
        "\n",
        "class Week(IntEnum):\n",
        "    MONDAY = 0\n",
        "    TUESDAY = 1\n",
        "    WEDNESDAY = 2\n",
        "    THURSDAY = 3\n",
        "    FRIDAY = 4\n",
        "    SATURDAY = 5\n",
        "    SUNDAY = 6\n",
        "print(Week.MONDAY.name, Week.MONDAY.value)"
      ],
      "execution_count": null,
      "outputs": [
        {
          "output_type": "stream",
          "name": "stdout",
          "text": [
            "MONDAY 0\n"
          ]
        }
      ]
    },
    {
      "cell_type": "code",
      "metadata": {
        "colab": {
          "base_uri": "https://localhost:8080/"
        },
        "id": "EU5JoHDhPBVJ",
        "outputId": "fb8b26ac-7431-4fc3-fe3c-16d42aa4776e"
      },
      "source": [
        "from enum import Enum, auto\n",
        "\n",
        "class Week(Enum):\n",
        "    MONDAY = auto()\n",
        "    TUESDAY = auto()\n",
        "    WEDNESDAY = auto()\n",
        "    THURSDAY = auto()\n",
        "    FRIDAY = auto()\n",
        "    SATURDAY = auto()\n",
        "    SUNDAY = auto()\n",
        "print(Week.SATURDAY.name, Week.SATURDAY.value)"
      ],
      "execution_count": null,
      "outputs": [
        {
          "output_type": "stream",
          "name": "stdout",
          "text": [
            "SATURDAY 6\n"
          ]
        }
      ]
    },
    {
      "cell_type": "code",
      "metadata": {
        "id": "-uSqvHlwMY8L"
      },
      "source": [
        ""
      ],
      "execution_count": null,
      "outputs": []
    },
    {
      "cell_type": "code",
      "metadata": {
        "id": "n1AJAJouEFuX"
      },
      "source": [
        ""
      ],
      "execution_count": null,
      "outputs": []
    }
  ]
}