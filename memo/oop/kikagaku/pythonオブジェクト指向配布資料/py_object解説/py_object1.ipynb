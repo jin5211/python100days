{
  "nbformat": 4,
  "nbformat_minor": 0,
  "metadata": {
    "colab": {
      "name": "py_object1.ipynb",
      "provenance": []
    },
    "kernelspec": {
      "name": "python3",
      "display_name": "Python 3"
    },
    "language_info": {
      "name": "python"
    }
  },
  "cells": [
    {
      "cell_type": "code",
      "metadata": {
        "id": "4jG02qCtU_CU"
      },
      "source": [
        "class Player:\n",
        "    def __init__(self, level, name):\n",
        "        self.level = level\n",
        "        self.name = name\n",
        "\n",
        "    def attack(self):\n",
        "        print(\"敵を攻撃する\")"
      ],
      "execution_count": null,
      "outputs": []
    },
    {
      "cell_type": "code",
      "metadata": {
        "colab": {
          "base_uri": "https://localhost:8080/"
        },
        "id": "wT5hW3VFZ6d2",
        "outputId": "85f26019-f25e-4d49-ad66-50fe48aa5210"
      },
      "source": [
        "class Player:\n",
        "    def __init__(self, level, name):\n",
        "        self.level = level\n",
        "        self.name = name\n",
        "\n",
        "    def attack(self):\n",
        "        print(\"敵を攻撃する\")\n",
        "\n",
        "    def show(self):\n",
        "        print(\"レベル: {}, 名前: {}\".format(self.level, self.name))\n",
        "\n",
        "john = Player(1, \"JOHN\")\n",
        "\n",
        "john.show()\n",
        "john.level = 2\n",
        "john.show()\n",
        "john.attack()"
      ],
      "execution_count": null,
      "outputs": [
        {
          "output_type": "stream",
          "name": "stdout",
          "text": [
            "レベル: 1, 名前: JOHN\n",
            "レベル: 2, 名前: JOHN\n",
            "敵を攻撃する\n"
          ]
        }
      ]
    },
    {
      "cell_type": "code",
      "metadata": {
        "colab": {
          "base_uri": "https://localhost:8080/"
        },
        "id": "fqnqgajIcQ2m",
        "outputId": "a2a02daa-9965-4fd8-e9ad-99930fd12f9b"
      },
      "source": [
        "class Worker:\n",
        "    def __init__(self, id, name, age, salary):\n",
        "        self.id = id\n",
        "        self.name = name\n",
        "        self.age = age\n",
        "        self.salary = salary\n",
        "        self.bonus_rate = 2\n",
        "\n",
        "    def work(self):\n",
        "        print(\"働く\")\n",
        "\n",
        "    def show(self):\n",
        "        print(\"ID: {}, 名前: {}, 年齢: {}\".format(self.id, self.name, self.age))\n",
        "\n",
        "    def calc_salary(self):\n",
        "        return self.salary\n",
        "\n",
        "    def calc_bonus(self):\n",
        "        return self.salary * self.bonus_rate\n",
        "\n",
        "hiro = Worker(1, \"HIRO\", 25, 200000)\n",
        "\n",
        "hiro.show()\n",
        "hiro.work()\n",
        "print(\"月給: \", hiro.calc_salary(), \"賞与: \", hiro.calc_bonus())\n",
        "\n",
        "hiro.salary += 40000\n",
        "hiro.bonus_rate = 3\n",
        "print(\"昇給後の月給: \", hiro.calc_salary(), \"昇給後の賞与: \", hiro.calc_bonus())"
      ],
      "execution_count": null,
      "outputs": [
        {
          "output_type": "stream",
          "name": "stdout",
          "text": [
            "ID: 1, 名前: HIRO, 年齢: 25\n",
            "働く\n",
            "月給:  200000 賞与:  400000\n",
            "昇給後の月給:  240000 昇給後の賞与:  720000\n"
          ]
        }
      ]
    }
  ]
}