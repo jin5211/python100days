{
  "nbformat": 4,
  "nbformat_minor": 0,
  "metadata": {
    "colab": {
      "name": "pyobject_ex3.ipynb",
      "provenance": [],
      "collapsed_sections": []
    },
    "kernelspec": {
      "name": "python3",
      "display_name": "Python 3"
    },
    "language_info": {
      "name": "python"
    }
  },
  "cells": [
    {
      "cell_type": "code",
      "metadata": {
        "colab": {
          "base_uri": "https://localhost:8080/"
        },
        "id": "0-AsdWlBAK71",
        "outputId": "63d4d5ad-927a-4db1-b783-8a6506800217"
      },
      "source": [
        "class Dog:\n",
        "    def __init__(self, name='名無し'):\n",
        "        self.name = name\n",
        "\n",
        "    def show(self):\n",
        "        print('私は{}です。'.format(self.name))\n",
        "\n",
        "\n",
        "class SuperDog(Dog):\n",
        "    def speak(self):\n",
        "        print('{}は人間の言葉を話します。'.format(self.name))\n",
        "\n",
        "    def show(self):\n",
        "        print('私は魔法が使える犬 {}です。'.format(self.name))\n",
        "\n",
        "d = Dog()\n",
        "d.show()\n",
        "\n",
        "s = SuperDog()\n",
        "s.show()"
      ],
      "execution_count": null,
      "outputs": [
        {
          "output_type": "stream",
          "name": "stdout",
          "text": [
            "私は名無しです。\n",
            "私は魔法が使える犬 名無しです。\n"
          ]
        }
      ]
    },
    {
      "cell_type": "code",
      "metadata": {
        "colab": {
          "base_uri": "https://localhost:8080/"
        },
        "id": "GXwUWgyUBKhz",
        "outputId": "afbc9220-b9d3-4afa-f507-d0999ee92897"
      },
      "source": [
        "class Dog:\n",
        "    def __init__(self, name):\n",
        "        self.__name = name\n",
        "\n",
        "    def get_name(self):\n",
        "        return self.__name\n",
        "\n",
        "    def set_name(self, name):\n",
        "        if isinstance(name, str) and name != '':\n",
        "            self.__name = name\n",
        "\n",
        "\n",
        "d = Dog('ポチ')\n",
        "print(d.get_name())\n",
        "d.set_name('ラッキー')\n",
        "print(d.get_name())\n"
      ],
      "execution_count": null,
      "outputs": [
        {
          "output_type": "stream",
          "name": "stdout",
          "text": [
            "ポチ\n",
            "ラッキー\n"
          ]
        }
      ]
    },
    {
      "cell_type": "code",
      "metadata": {
        "colab": {
          "base_uri": "https://localhost:8080/"
        },
        "id": "07ax1PpkC7C2",
        "outputId": "157576b1-4b47-463d-a2f3-c68bebc35b5e"
      },
      "source": [
        "class Player:\n",
        "    LEVEL_LIMIT = 50\n",
        "    def __init__(self, level, name):\n",
        "        self.level = level\n",
        "        self.name = name\n",
        "\n",
        "    def attack(self):\n",
        "        print(\"敵を攻撃する\")\n",
        "\n",
        "    def show(self):\n",
        "        print(\"レベル: {}, 名前: {}\".format(self.level, self.name))\n",
        "\n",
        "    def level_up(self, number):\n",
        "        self.level += number\n",
        "        self.check_level()\n",
        "\n",
        "    def check_level(self):\n",
        "        if self.level > Player.LEVEL_LIMIT:\n",
        "            self.level = Player.LEVEL_LIMIT\n",
        "\n",
        "john = Player(1, \"JOHN\")\n",
        "\n",
        "john.show()\n",
        "john.level_up(10)\n",
        "john.show()\n",
        "john.level_up(50)\n",
        "john.show()"
      ],
      "execution_count": null,
      "outputs": [
        {
          "output_type": "stream",
          "name": "stdout",
          "text": [
            "レベル: 1, 名前: JOHN\n",
            "レベル: 11, 名前: JOHN\n",
            "レベル: 50, 名前: JOHN\n"
          ]
        }
      ]
    },
    {
      "cell_type": "code",
      "metadata": {
        "id": "FExekRW1y7uL"
      },
      "source": [
        ""
      ],
      "execution_count": null,
      "outputs": []
    }
  ]
}