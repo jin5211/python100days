{
  "nbformat": 4,
  "nbformat_minor": 0,
  "metadata": {
    "colab": {
      "name": "py_object1ex.ipynb",
      "provenance": []
    },
    "kernelspec": {
      "name": "python3",
      "display_name": "Python 3"
    },
    "language_info": {
      "name": "python"
    }
  },
  "cells": [
    {
      "cell_type": "code",
      "metadata": {
        "colab": {
          "base_uri": "https://localhost:8080/"
        },
        "id": "V-fbs3f25H9K",
        "outputId": "c70582bb-e173-48eb-bd04-dabce52a3801"
      },
      "source": [
        "class Dog:\n",
        "    def __init__(self, name):\n",
        "        self.name = name\n",
        "\n",
        "    def show(self):\n",
        "        print(\"私は{}です。\".format(self.name))\n",
        "\n",
        "d = Dog(\"ラッキー\")\n",
        "d.show()"
      ],
      "execution_count": 1,
      "outputs": [
        {
          "output_type": "stream",
          "name": "stdout",
          "text": [
            "私はラッキーです。\n"
          ]
        }
      ]
    },
    {
      "cell_type": "code",
      "metadata": {
        "colab": {
          "base_uri": "https://localhost:8080/"
        },
        "id": "ruIOJ2Ku7GRd",
        "outputId": "d441ed7c-3fc0-4f41-a8dd-f2fe633c8a34"
      },
      "source": [
        "class Car:\n",
        "    def __init__(self, color):\n",
        "        self.color = color\n",
        "\n",
        "    def print_color(self):\n",
        "        print(\"車の色は{}色です。\".format(self.color))\n",
        "\n",
        "    def run(self):\n",
        "        print(\"発進します!\")\n",
        "\n",
        "c = Car(\"赤\")\n",
        "c.print_color()\n",
        "c.run()"
      ],
      "execution_count": 3,
      "outputs": [
        {
          "output_type": "stream",
          "name": "stdout",
          "text": [
            "車の色は赤色です。\n",
            "発進します!\n"
          ]
        }
      ]
    },
    {
      "cell_type": "code",
      "metadata": {
        "colab": {
          "base_uri": "https://localhost:8080/"
        },
        "id": "uoqC-9Pl80X5",
        "outputId": "b9fa5ca6-bcc9-4d67-af71-4a40e74a7d26"
      },
      "source": [
        "class Rectangle:\n",
        "    def __init__(self, bottom, height):\n",
        "        self.bottom = bottom\n",
        "        self.height = height\n",
        "\n",
        "    def show(self):\n",
        "        print(\"長方形の底辺: {}, 高さ: {}\".format(self.bottom, self.height))\n",
        "\n",
        "    def area(self):\n",
        "        return self.bottom * self.height\n",
        "\n",
        "r = Rectangle(3, 5)\n",
        "r.show()\n",
        "print(\"面積:\",r.area())"
      ],
      "execution_count": 6,
      "outputs": [
        {
          "output_type": "stream",
          "name": "stdout",
          "text": [
            "長方形の底辺: 3, 高さ: 5\n",
            "面積: 15\n"
          ]
        }
      ]
    },
    {
      "cell_type": "code",
      "metadata": {
        "id": "2BdBaZm-9u0T"
      },
      "source": [
        ""
      ],
      "execution_count": null,
      "outputs": []
    }
  ]
}