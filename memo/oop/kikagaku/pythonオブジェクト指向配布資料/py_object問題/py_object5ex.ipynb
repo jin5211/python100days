{
  "nbformat": 4,
  "nbformat_minor": 0,
  "metadata": {
    "colab": {
      "name": "pyobject_ex5.ipynb",
      "provenance": []
    },
    "kernelspec": {
      "name": "python3",
      "display_name": "Python 3"
    },
    "language_info": {
      "name": "python"
    }
  },
  "cells": [
    {
      "cell_type": "code",
      "metadata": {
        "id": "RZlbe1OzASYD",
        "colab": {
          "base_uri": "https://localhost:8080/"
        },
        "outputId": "3c0965c6-78f0-4297-ac78-1ecb6b81ea42"
      },
      "source": [
        "while True:\n",
        "    try:\n",
        "        p = input(\"1つ目の数値を入れてください:\")\n",
        "        p = float(p)\n",
        "        q = input(\"2つ目の数値を入れてください:\")\n",
        "        q = float(q)\n",
        "        answer = p / q\n",
        "        print(answer)\n",
        "        break\n",
        "    except:\n",
        "        print(\"入力した数値が不適切です\")"
      ],
      "execution_count": null,
      "outputs": [
        {
          "output_type": "stream",
          "name": "stdout",
          "text": [
            "1つ目の数値を入れてください:try\n",
            "入力した数値が不適切です\n",
            "1つ目の数値を入れてください:20\n",
            "2つ目の数値を入れてください:0\n",
            "入力した数値が不適切です\n",
            "1つ目の数値を入れてください:3\n",
            "2つ目の数値を入れてください:1\n",
            "3.0\n"
          ]
        }
      ]
    },
    {
      "cell_type": "code",
      "metadata": {
        "colab": {
          "base_uri": "https://localhost:8080/"
        },
        "id": "ocucozsOF2wD",
        "outputId": "19fe5ee3-d1b1-408e-e8ad-a5a1436f528a"
      },
      "source": [
        "while True:\n",
        "    try:\n",
        "        p = input(\"1つ目の数値を入れてください:\")\n",
        "        p = float(p)\n",
        "        q = input(\"2つ目の数値を入れてください:\")\n",
        "        q = float(q)\n",
        "        answer = p / q\n",
        "        print(answer)\n",
        "        break\n",
        "    except ZeroDivisionError:\n",
        "        print(\"0で割れません\")\n",
        "    except ValueError:\n",
        "        print(\"数値を入力してください\")\n",
        "    except :\n",
        "        print(\"その他の例外が発生しました\")"
      ],
      "execution_count": null,
      "outputs": [
        {
          "output_type": "stream",
          "name": "stdout",
          "text": [
            "1つ目の数値を入れてください:30\n",
            "2つ目の数値を入れてください:0\n",
            "0で割れません\n",
            "1つ目の数値を入れてください:except\n",
            "数値を入力してください\n",
            "1つ目の数値を入れてください:3\n",
            "2つ目の数値を入れてください:2\n",
            "1.5\n"
          ]
        }
      ]
    },
    {
      "cell_type": "code",
      "metadata": {
        "colab": {
          "base_uri": "https://localhost:8080/"
        },
        "id": "dW5W7dMiTBvC",
        "outputId": "3bbd1cbd-edd6-4c80-9e9c-017ccdf5e6cc"
      },
      "source": [
        "try:\n",
        "    print(\"test\")\n",
        "    int(\"five\")\n",
        "except ValueError:\n",
        "    print(\"例外が発生しました\")\n",
        "else:\n",
        "    print(\"例外が発生しませんでした\")\n",
        "finally:\n",
        "    print(\"例外の発生に関わらず実行します\")"
      ],
      "execution_count": null,
      "outputs": [
        {
          "output_type": "stream",
          "name": "stdout",
          "text": [
            "test\n",
            "例外が発生しました\n",
            "例外の発生に関わらず実行します\n"
          ]
        }
      ]
    }
  ]
}