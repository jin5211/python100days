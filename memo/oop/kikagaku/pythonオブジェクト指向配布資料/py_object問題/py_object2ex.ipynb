{
  "nbformat": 4,
  "nbformat_minor": 0,
  "metadata": {
    "colab": {
      "name": "py_object2ex.ipynb",
      "provenance": []
    },
    "kernelspec": {
      "name": "python3",
      "display_name": "Python 3"
    },
    "language_info": {
      "name": "python"
    }
  },
  "cells": [
    {
      "cell_type": "code",
      "metadata": {
        "colab": {
          "base_uri": "https://localhost:8080/"
        },
        "id": "ehru-cUYe4vP",
        "outputId": "4348840a-504a-42a4-a6c9-682687fbcb16"
      },
      "source": [
        "class Dog:\n",
        "    def __init__(self, name):\n",
        "        self.name = name\n",
        "\n",
        "    def show(self):\n",
        "        print(\"私は{}です。\".format(self.name))\n",
        "\n",
        "class SuperDog(Dog):\n",
        "    def speak(self):\n",
        "        print(\"{}は人間の言葉を話します。\".format(self.name))\n",
        "\n",
        "d = Dog(\"ラッキー\")\n",
        "d.show()\n",
        "\n",
        "s = SuperDog(\"クッキー\")\n",
        "s.show()\n",
        "s.speak()"
      ],
      "execution_count": 4,
      "outputs": [
        {
          "output_type": "stream",
          "name": "stdout",
          "text": [
            "私はラッキーです。\n",
            "私はクッキーです。\n",
            "クッキーは人間の言葉を話します。\n"
          ]
        }
      ]
    },
    {
      "cell_type": "code",
      "metadata": {
        "colab": {
          "base_uri": "https://localhost:8080/"
        },
        "id": "MyusVY_Vf4hW",
        "outputId": "2f4ca734-0812-4621-f78d-6961847cf8d6"
      },
      "source": [
        "class Rectangle:\n",
        "    def __init__(self, bottom, height):\n",
        "        self.bottom = bottom\n",
        "        self.height = height\n",
        "\n",
        "    def show(self):\n",
        "        print(\"長方形の底辺: {}, 高さ: {}\".format(self.bottom, self.height))\n",
        "\n",
        "    def area(self):\n",
        "        return self.bottom * self.height\n",
        "\n",
        "class RectangleEx(Rectangle):\n",
        "    def calc_circumference(self):\n",
        "        return (self.bottom + self.height) * 2\n",
        "\n",
        "r = RectangleEx(3, 5)\n",
        "r.show()\n",
        "print(\"面積: {}\".format(r.area()))\n",
        "print(\"周の長さ: {}\".format(r.calc_circumference()))"
      ],
      "execution_count": 8,
      "outputs": [
        {
          "output_type": "stream",
          "name": "stdout",
          "text": [
            "長方形の底辺: 3, 高さ: 5\n",
            "面積: 15\n",
            "周の長さ: 16\n"
          ]
        }
      ]
    },
    {
      "cell_type": "code",
      "metadata": {
        "colab": {
          "base_uri": "https://localhost:8080/"
        },
        "id": "Fcesda4qh1AZ",
        "outputId": "2dece014-dda0-45d5-ff8f-ec9ab0eb60be"
      },
      "source": [
        "class Dog:\n",
        "    def __init__(self, name):\n",
        "        self.name = name\n",
        "\n",
        "    def show(self):\n",
        "        print(\"私は{}です。\".format(self.name))\n",
        "\n",
        "class SuperDog(Dog):\n",
        "    def speak(self):\n",
        "        print(\"{}は人間の言葉を話します。\".format(self.name))\n",
        "\n",
        "    def show(self):\n",
        "        print(\"私は魔法が使える犬 {}です。\".format(self.name))\n",
        "\n",
        "d = Dog(\"ラッキー\")\n",
        "d.show()\n",
        "\n",
        "s = SuperDog(\"クッキー\")\n",
        "s.show()\n",
        "s.speak()"
      ],
      "execution_count": 9,
      "outputs": [
        {
          "output_type": "stream",
          "name": "stdout",
          "text": [
            "私はラッキーです。\n",
            "私は魔法が使える犬 クッキーです。\n",
            "クッキーは人間の言葉を話します。\n"
          ]
        }
      ]
    },
    {
      "cell_type": "code",
      "metadata": {
        "id": "kd7IfbZ3i84A"
      },
      "source": [
        ""
      ],
      "execution_count": null,
      "outputs": []
    }
  ]
}